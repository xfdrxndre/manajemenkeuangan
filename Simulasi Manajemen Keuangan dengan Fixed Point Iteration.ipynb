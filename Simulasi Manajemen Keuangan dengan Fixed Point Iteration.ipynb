{
 "cells": [
  {
   "cell_type": "code",
   "execution_count": 1,
   "metadata": {},
   "outputs": [],
   "source": [
    "# Simulasi Manajemen Keuangan dengan Fixed Point Iteration\n",
    "def iterasi_titik_tetap_keuangan(tabungan_target, pengeluaran_awal, pendapatan, toleransi, maks_iterasi):\n",
    "    pengeluaran_saat_ini = pengeluaran_awal\n",
    "    for iterasi in range(maks_iterasi):\n",
    "        tabungan_saat_ini = pendapatan - pengeluaran_saat_ini\n",
    "        kesalahan = abs(tabungan_saat_ini - tabungan_target)\n",
    "        print(f\"Iterasi {iterasi+1}: Pengeluaran Saat Ini = {pengeluaran_saat_ini}, Tabungan Saat Ini = {tabungan_saat_ini}, Kesalahan = {kesalahan}\")\n",
    "\n",
    "        if kesalahan < toleransi:\n",
    "            print(\"Pengeluaran optimal ditemukan!\")\n",
    "            return pengeluaran_saat_ini\n",
    "        \n",
    "        # Perbarui strategi pengeluaran\n",
    "        # Jika tabungan terlalu rendah, kurangi pengeluaran; jika terlalu tinggi, bisa meningkatkan pengeluaran\n",
    "        penyesuaian = (tabungan_saat_ini - tabungan_target) * 0.5  # Sesuaikan setengah dari perbedaan\n",
    "        pengeluaran_saat_ini -= penyesuaian\n",
    "\n",
    "    print(\"Iterasi maksimal tercapai tanpa solusi optimal.\")\n",
    "    return pengeluaran_saat_ini"
   ]
  },
  {
   "cell_type": "code",
   "execution_count": 2,
   "metadata": {},
   "outputs": [],
   "source": [
    "# Inputan\n",
    "tabungan_target = 500  # Target adalah menyimpan Rp500 per bulan\n",
    "pengeluaran_awal = 2000  # Tebakan awal pengeluaran bulanan\n",
    "pendapatan = 3000  # Pendapatan bulanan\n",
    "toleransi = 1  # Toleransi Rp1 dalam tujuan tabungan\n",
    "maks_iterasi = 20  # Maksimal iterasi untuk mencegah loop tak terbatas"
   ]
  },
  {
   "cell_type": "code",
   "execution_count": 3,
   "metadata": {},
   "outputs": [
    {
     "name": "stdout",
     "output_type": "stream",
     "text": [
      "Iterasi 1: Pengeluaran Saat Ini = 2000, Tabungan Saat Ini = 1000, Kesalahan = 500\n",
      "Iterasi 2: Pengeluaran Saat Ini = 1750.0, Tabungan Saat Ini = 1250.0, Kesalahan = 750.0\n",
      "Iterasi 3: Pengeluaran Saat Ini = 1375.0, Tabungan Saat Ini = 1625.0, Kesalahan = 1125.0\n",
      "Iterasi 4: Pengeluaran Saat Ini = 812.5, Tabungan Saat Ini = 2187.5, Kesalahan = 1687.5\n",
      "Iterasi 5: Pengeluaran Saat Ini = -31.25, Tabungan Saat Ini = 3031.25, Kesalahan = 2531.25\n",
      "Iterasi 6: Pengeluaran Saat Ini = -1296.875, Tabungan Saat Ini = 4296.875, Kesalahan = 3796.875\n",
      "Iterasi 7: Pengeluaran Saat Ini = -3195.3125, Tabungan Saat Ini = 6195.3125, Kesalahan = 5695.3125\n",
      "Iterasi 8: Pengeluaran Saat Ini = -6042.96875, Tabungan Saat Ini = 9042.96875, Kesalahan = 8542.96875\n",
      "Iterasi 9: Pengeluaran Saat Ini = -10314.453125, Tabungan Saat Ini = 13314.453125, Kesalahan = 12814.453125\n",
      "Iterasi 10: Pengeluaran Saat Ini = -16721.6796875, Tabungan Saat Ini = 19721.6796875, Kesalahan = 19221.6796875\n",
      "Iterasi 11: Pengeluaran Saat Ini = -26332.51953125, Tabungan Saat Ini = 29332.51953125, Kesalahan = 28832.51953125\n",
      "Iterasi 12: Pengeluaran Saat Ini = -40748.779296875, Tabungan Saat Ini = 43748.779296875, Kesalahan = 43248.779296875\n",
      "Iterasi 13: Pengeluaran Saat Ini = -62373.1689453125, Tabungan Saat Ini = 65373.1689453125, Kesalahan = 64873.1689453125\n",
      "Iterasi 14: Pengeluaran Saat Ini = -94809.75341796875, Tabungan Saat Ini = 97809.75341796875, Kesalahan = 97309.75341796875\n",
      "Iterasi 15: Pengeluaran Saat Ini = -143464.63012695312, Tabungan Saat Ini = 146464.63012695312, Kesalahan = 145964.63012695312\n",
      "Iterasi 16: Pengeluaran Saat Ini = -216446.9451904297, Tabungan Saat Ini = 219446.9451904297, Kesalahan = 218946.9451904297\n",
      "Iterasi 17: Pengeluaran Saat Ini = -325920.41778564453, Tabungan Saat Ini = 328920.41778564453, Kesalahan = 328420.41778564453\n",
      "Iterasi 18: Pengeluaran Saat Ini = -490130.6266784668, Tabungan Saat Ini = 493130.6266784668, Kesalahan = 492630.6266784668\n",
      "Iterasi 19: Pengeluaran Saat Ini = -736445.9400177002, Tabungan Saat Ini = 739445.9400177002, Kesalahan = 738945.9400177002\n",
      "Iterasi 20: Pengeluaran Saat Ini = -1105918.9100265503, Tabungan Saat Ini = 1108918.9100265503, Kesalahan = 1108418.9100265503\n",
      "Iterasi maksimal tercapai tanpa solusi optimal.\n",
      "Pengeluaran bulanan optimal seharusnya sekitar: Rp-1660128.3650398254\n"
     ]
    }
   ],
   "source": [
    "# Calling the function\n",
    "pengeluaran_optimal = iterasi_titik_tetap_keuangan(tabungan_target, pengeluaran_awal, pendapatan, toleransi, maks_iterasi)\n",
    "print(f\"Pengeluaran bulanan optimal seharusnya sekitar: Rp{pengeluaran_optimal}\")"
   ]
  }
 ],
 "metadata": {
  "kernelspec": {
   "display_name": "Python 3",
   "language": "python",
   "name": "python3"
  },
  "language_info": {
   "codemirror_mode": {
    "name": "ipython",
    "version": 3
   },
   "file_extension": ".py",
   "mimetype": "text/x-python",
   "name": "python",
   "nbconvert_exporter": "python",
   "pygments_lexer": "ipython3",
   "version": "3.11.9"
  }
 },
 "nbformat": 4,
 "nbformat_minor": 2
}
